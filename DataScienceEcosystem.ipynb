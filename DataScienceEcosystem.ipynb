{
 "cells": [
  {
   "cell_type": "markdown",
   "id": "cc9540ef-f3a0-4a9a-93a6-b9b1e4f8f3f5",
   "metadata": {},
   "source": [
    "Notebook created for IBM Data Science Certificate"
   ]
  },
  {
   "cell_type": "markdown",
   "id": "2175584b-daf1-4a21-90ec-affa708c9ed7",
   "metadata": {},
   "source": [
    "## Author\n",
    "Margaret J. Foster"
   ]
  },
  {
   "cell_type": "markdown",
   "id": "55e44594-90c5-4ab7-b099-d60b6c9866bc",
   "metadata": {},
   "source": [
    "## Data Science Tools and Ecosystem"
   ]
  },
  {
   "cell_type": "markdown",
   "id": "9b6198d0-d56a-4483-8a3b-3bd37a8e520e",
   "metadata": {},
   "source": [
    "This notebook summarizes Data Science tools and ecosystems."
   ]
  },
  {
   "cell_type": "markdown",
   "id": "e54ed86e-0697-4803-9631-9e04d8c4c2e7",
   "metadata": {},
   "source": [
    "**Objectives**:\n",
    "    \n",
    "    - List popular languages for data science \n",
    "    - List popular libraries for data science\n",
    "    - Creating an example table in Markdown\n",
    "    - Showing arithmatic in Markdown\n",
    "    - Designing a simple Python function\n",
    "    "
   ]
  },
  {
   "cell_type": "markdown",
   "id": "ec24979b-8479-4c6b-93d8-6b57f86511f5",
   "metadata": {},
   "source": [
    "Some popular languages used by data scientists are:\n",
    "\n",
    "1. Python\n",
    "2. R\n",
    "3. SQL\n",
    "4. Hadoop"
   ]
  },
  {
   "cell_type": "markdown",
   "id": "a3e8d648-54ba-4f4b-a367-981130fba288",
   "metadata": {},
   "source": [
    "Some libraries commonly used by data scientists are:\n",
    "\n",
    "1. sklearn (Python)\n",
    "2. Tensorflow (Python)\n",
    "3. Keras (Python)\n",
    "4. Caret (R)\n",
    "5. Pytorch"
   ]
  },
  {
   "cell_type": "markdown",
   "id": "eccb05bb-db17-4045-8c30-d337688eb7e5",
   "metadata": {},
   "source": [
    "Some development environment open source data science tools: \n"
   ]
  },
  {
   "cell_type": "markdown",
   "id": "ecf1061a-3e9b-429c-a4a6-2f97cd82a2ca",
   "metadata": {},
   "source": [
    "| Environment   | Use                          |\n",
    "| ------------- | ---------------------------- |\n",
    "| Apache AirFlow| ETL                          |\n",
    "| Kubeflow      | Execution on top of Kubernetes |\n",
    "| Apache SparkML| ML model                     |\n",
    "| TensorFlow    | Tensorflow models            |\n"
   ]
  },
  {
   "cell_type": "markdown",
   "id": "a23d2bb1-7318-4f8f-8d5b-b84bbd888862",
   "metadata": {},
   "source": [
    "### Below are a few examples of evaluating arithmetic expressions in Python\n"
   ]
  },
  {
   "cell_type": "code",
   "execution_count": 3,
   "id": "633d7e4f-afb6-4b65-95e4-4223ac9e57f7",
   "metadata": {},
   "outputs": [
    {
     "data": {
      "text/plain": [
       "17"
      ]
     },
     "execution_count": 3,
     "metadata": {},
     "output_type": "execute_result"
    }
   ],
   "source": [
    "# This is a simple arithmetic expression to multiply then add integers:\n",
    "\n",
    "(3*4)+5"
   ]
  },
  {
   "cell_type": "code",
   "execution_count": 8,
   "id": "63245121-681d-45b2-81f7-d0d33bf3f323",
   "metadata": {},
   "outputs": [
    {
     "data": {
      "text/plain": [
       "3.3333333333333335"
      ]
     },
     "execution_count": 8,
     "metadata": {},
     "output_type": "execute_result"
    }
   ],
   "source": [
    "# This will convert 200 minutes into hours by dividing by 60:\n",
    "\n",
    "def convert_minutes(mins):\n",
    "    return(mins/60)\n",
    "\n",
    "convert_minutes(200)"
   ]
  },
  {
   "cell_type": "code",
   "execution_count": null,
   "id": "2bcdc56c-30d4-40f7-8775-f1eaedb85f09",
   "metadata": {},
   "outputs": [],
   "source": []
  }
 ],
 "metadata": {
  "kernelspec": {
   "display_name": "Python 3 (ipykernel)",
   "language": "python",
   "name": "python3"
  },
  "language_info": {
   "codemirror_mode": {
    "name": "ipython",
    "version": 3
   },
   "file_extension": ".py",
   "mimetype": "text/x-python",
   "name": "python",
   "nbconvert_exporter": "python",
   "pygments_lexer": "ipython3",
   "version": "3.9.12"
  }
 },
 "nbformat": 4,
 "nbformat_minor": 5
}
